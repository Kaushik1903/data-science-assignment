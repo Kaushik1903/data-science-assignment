{
 "cells": [
  {
   "cell_type": "code",
   "execution_count": 1,
   "id": "2b59769a-8d8d-4956-a06c-352a2317fb98",
   "metadata": {},
   "outputs": [
    {
     "data": {
      "text/plain": [
       "' multithreading is concurrently executing the multiple threads by raapidly switching the control of the cpu between threads.\\n Multithreading allows the programmer to divide application tasks into sub-tasks and simultaneously run them in a program.\\n It allows threads to communicate and share resources such as files, data, and memory to the same processor.\\n \\n threading module is used.'"
      ]
     },
     "execution_count": 1,
     "metadata": {},
     "output_type": "execute_result"
    }
   ],
   "source": [
    "1. \n",
    "\"\"\" multithreading is concurrently executing the multiple threads by raapidly switching the control of the cpu between threads.\n",
    " Multithreading allows the programmer to divide application tasks into sub-tasks and simultaneously run them in a program.\n",
    " It allows threads to communicate and share resources such as files, data, and memory to the same processor.\n",
    " \n",
    " threading module is used.\"\"\"\n",
    " "
   ]
  },
  {
   "cell_type": "code",
   "execution_count": 2,
   "id": "35890922-658d-40b8-a46f-cc5df41e9e07",
   "metadata": {},
   "outputs": [
    {
     "data": {
      "text/plain": [
       "\" threading module is used for creating, controlling and managing threads in python.\\nthreading.activeCount() − Returns the number of thread objects that are active.\\nthreading.currentThread() − Returns the number of thread objects in the caller's thread control. \\nthreading.enumerate() − Returns a list of all thread objects that are currently active.\""
      ]
     },
     "execution_count": 2,
     "metadata": {},
     "output_type": "execute_result"
    }
   ],
   "source": [
    "2.\n",
    "\"\"\" threading module is used for creating, controlling and managing threads in python.\n",
    "threading.activeCount() − Returns the number of thread objects that are active.\n",
    "threading.currentThread() − Returns the number of thread objects in the caller's thread control. \n",
    "threading.enumerate() − Returns a list of all thread objects that are currently active.\"\"\"\n"
   ]
  },
  {
   "cell_type": "code",
   "execution_count": 3,
   "id": "261a4ccd-2a15-4aa3-ba44-a18aab538b6c",
   "metadata": {},
   "outputs": [
    {
     "data": {
      "text/plain": [
       "'run() − The run() method is the entry point for a thread.\\n\\nstart() − The start() method starts a thread by calling the run method.\\n\\njoin([time]) − The join() waits for threads to terminate.\\n\\nisAlive() − The isAlive() method checks whether a thread is still executing.'"
      ]
     },
     "execution_count": 3,
     "metadata": {},
     "output_type": "execute_result"
    }
   ],
   "source": [
    "3.\n",
    "\"\"\"run() − The run() method is the entry point for a thread.\n",
    "\n",
    "start() − The start() method starts a thread by calling the run method.\n",
    "\n",
    "join([time]) − The join() waits for threads to terminate.\n",
    "\n",
    "isAlive() − The isAlive() method checks whether a thread is still executing.\"\"\""
   ]
  },
  {
   "cell_type": "code",
   "execution_count": 9,
   "id": "c6ae296e-91e7-4b24-9a83-0915c1a413b2",
   "metadata": {},
   "outputs": [
    {
     "name": "stdout",
     "output_type": "stream",
     "text": [
      "Square of 1 = 1\n",
      "Square of 2 = 4\n",
      "Square of 3 = 9\n",
      "Square of 4 = 16\n",
      "Square of 5 = 25\n",
      "Square of 6 = 36\n",
      "Square of 7 = 49\n",
      "Square of 8 = 64\n",
      "Square of 9 = 81\n",
      "Square of 10 = 100\n",
      "Cube of 1 = 1\n",
      "Cube of 2 = 8\n",
      "Cube of 3 = 27\n",
      "Cube of 4 = 64\n",
      "Cube of 5 = 125\n",
      "Cube of 6 = 216\n",
      "Cube of 7 = 343\n",
      "Cube of 8 = 512\n",
      "Cube of 9 = 729\n",
      "Cube of 10 = 1000\n"
     ]
    }
   ],
   "source": [
    "4.\n",
    "import threading\n",
    "\n",
    "def print_squares():\n",
    "    for i in range(1, 11):\n",
    "        print(f\"Square of {i} = {i**2}\")\n",
    "\n",
    "def print_cubes():\n",
    "    for i in range(1, 11):\n",
    "        print(f\"Cube of {i} = {i**3}\")\n",
    "\n",
    "t1 = threading.Thread(target=print_squares)\n",
    "t2 = threading.Thread(target=print_cubes)\n",
    "\n",
    "t1.start()\n",
    "t2.start()\n",
    "\n",
    "\n",
    "t1.join()\n",
    "t2.join()\n",
    "    "
   ]
  },
  {
   "cell_type": "code",
   "execution_count": 10,
   "id": "2625f201-a885-411a-8779-0f4e55c2131d",
   "metadata": {},
   "outputs": [
    {
     "data": {
      "text/plain": [
       "'Advantages of Multithreading:\\n\\nImproved performance: Multithreading allows a program to perform multiple tasks simultaneously, which can lead to better performance and faster execution times. This is especially useful in applications that involve I/O or other tasks that are blocking.\\n\\nResource sharing: Multithreading allows threads to share resources such as memory and CPU time, which can lead to more efficient resource utilization.\\n\\nAsynchronous execution: Multithreading can be used to perform asynchronous I/O operations, where the program can continue executing other tasks while waiting for I/O operations to complete. This can improve the responsiveness of the program.\\n\\nParallel processing: Multithreading can be used to perform tasks in parallel, where multiple threads can work on the same task simultaneously. This can reduce the time required to complete the task.\\n\\nDisadvantages of Multithreading:\\n\\nComplexity: Multithreading adds complexity to a program, making it more difficult to design, develop, and debug. It can be challenging to ensure thread safety and avoid race conditions and deadlocks.\\n\\nOverhead: Multithreading introduces overhead in terms of memory and CPU time, as each thread requires its own stack and context switching between threads requires additional processing time.\\n\\nSynchronization issues: Multithreading introduces synchronization issues, as threads may access shared resources simultaneously, leading to conflicts and data corruption.\\n\\nDebugging challenges: Debugging multithreaded programs can be challenging, as the behavior of the program can be non-deterministic and difficult to reproduce. '"
      ]
     },
     "execution_count": 10,
     "metadata": {},
     "output_type": "execute_result"
    }
   ],
   "source": [
    "5.\n",
    "\"\"\"Advantages of Multithreading:\n",
    "\n",
    "Improved performance: Multithreading allows a program to perform multiple tasks simultaneously, which can lead to better performance and faster execution times. This is especially useful in applications that involve I/O or other tasks that are blocking.\n",
    "\n",
    "Resource sharing: Multithreading allows threads to share resources such as memory and CPU time, which can lead to more efficient resource utilization.\n",
    "\n",
    "Asynchronous execution: Multithreading can be used to perform asynchronous I/O operations, where the program can continue executing other tasks while waiting for I/O operations to complete. This can improve the responsiveness of the program.\n",
    "\n",
    "Parallel processing: Multithreading can be used to perform tasks in parallel, where multiple threads can work on the same task simultaneously. This can reduce the time required to complete the task.\n",
    "\n",
    "Disadvantages of Multithreading:\n",
    "\n",
    "Complexity: Multithreading adds complexity to a program, making it more difficult to design, develop, and debug. It can be challenging to ensure thread safety and avoid race conditions and deadlocks.\n",
    "\n",
    "Overhead: Multithreading introduces overhead in terms of memory and CPU time, as each thread requires its own stack and context switching between threads requires additional processing time.\n",
    "\n",
    "Synchronization issues: Multithreading introduces synchronization issues, as threads may access shared resources simultaneously, leading to conflicts and data corruption.\n",
    "\n",
    "Debugging challenges: Debugging multithreaded programs can be challenging, as the behavior of the program can be non-deterministic and difficult to reproduce. \"\"\""
   ]
  },
  {
   "cell_type": "code",
   "execution_count": null,
   "id": "e4991237-7ba5-4e90-a6b3-174b8295f4b9",
   "metadata": {},
   "outputs": [],
   "source": [
    "6.\n"
   ]
  }
 ],
 "metadata": {
  "kernelspec": {
   "display_name": "Python 3 (ipykernel)",
   "language": "python",
   "name": "python3"
  },
  "language_info": {
   "codemirror_mode": {
    "name": "ipython",
    "version": 3
   },
   "file_extension": ".py",
   "mimetype": "text/x-python",
   "name": "python",
   "nbconvert_exporter": "python",
   "pygments_lexer": "ipython3",
   "version": "3.10.8"
  }
 },
 "nbformat": 4,
 "nbformat_minor": 5
}
