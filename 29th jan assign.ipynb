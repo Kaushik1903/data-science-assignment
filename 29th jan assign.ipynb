{
 "cells": [
  {
   "cell_type": "code",
   "execution_count": null,
   "id": "3e7f620b-4a2f-421e-9108-d32b4046e8a9",
   "metadata": {},
   "outputs": [],
   "source": [
    "\"\"\"1.Guido Van rossum invented python programming language\n",
    "   2.It is a multi -paradigm programming language,i.e object orientd programming and structured programming.\n",
    "   3.Yes python is caste sensitive when dealing with identifiers\n",
    "   4. .py is the correct extension of python file\n",
    "   5.python is both compiled as well as interpreted language.\n",
    "   6.int,def\n",
    "   7.#character\n",
    "   8.sys.version\n",
    "   9.lambda\n",
    "   10.preferred installer program\n",
    "   11.bin(),bool(),bytes().\n",
    "   12.79 characters \n",
    "   13.#simple to use and understand\n",
    "      #extensive library\n",
    "      #dynamically typed\n",
    "      #open source\n",
    "      #portability\n",
    "   14.  Memory management in Python involves a private heap containing all Python objects and data structures. \n",
    "   The management of this private heap is ensured internally by the Python memory manager. \n",
    "   15. install python and Right-clicking This PC and going to Properties.\n",
    "\n",
    "        Clicking on the Advanced system settings in the menu on the left.\n",
    "\n",
    "        Clicking on the Environment Variables button o​n the bottom right.\n",
    "\n",
    "        In the System variables section, selecting the Path variable and clicking on Edit. The next screen will show all the directories that are currently a part of the PATH variable.\n",
    "\n",
    "        Clicking on New and entering Python’s install directory.\n",
    "    16.Yes indentation is required in python    "
   ]
  },
  {
   "cell_type": "code",
   "execution_count": null,
   "id": "70ebc86a-32e7-4e36-b988-bdecda07dbcd",
   "metadata": {},
   "outputs": [],
   "source": []
  }
 ],
 "metadata": {
  "kernelspec": {
   "display_name": "Python 3 (ipykernel)",
   "language": "python",
   "name": "python3"
  },
  "language_info": {
   "codemirror_mode": {
    "name": "ipython",
    "version": 3
   },
   "file_extension": ".py",
   "mimetype": "text/x-python",
   "name": "python",
   "nbconvert_exporter": "python",
   "pygments_lexer": "ipython3",
   "version": "3.10.8"
  }
 },
 "nbformat": 4,
 "nbformat_minor": 5
}
