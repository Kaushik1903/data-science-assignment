{
 "cells": [
  {
   "cell_type": "code",
   "execution_count": 1,
   "id": "6a24ba0f-45ed-4dc0-9ac4-9f369cec137c",
   "metadata": {},
   "outputs": [
    {
     "name": "stdin",
     "output_type": "stream",
     "text": [
      "enter the percentage 78\n"
     ]
    },
    {
     "name": "stdout",
     "output_type": "stream",
     "text": [
      "you got C grade\n"
     ]
    }
   ],
   "source": [
    "#1. \n",
    "percentage=int (input(\"enter the percentage\"))\n",
    "if percentage >90:\n",
    "    print(\"You got A grade\")\n",
    "elif percentage >80 and percentage <=90:\n",
    "    print(\"you got B grade\")\n",
    "elif percentage >=60 and percentage <=80:\n",
    "    print(\"you got C grade\")\n",
    "else:\n",
    "    print(\"you got a D grade\")\n",
    "\n"
   ]
  },
  {
   "cell_type": "code",
   "execution_count": 2,
   "id": "620b9d66-70a4-4d48-a62a-e3b6f850b22c",
   "metadata": {},
   "outputs": [
    {
     "name": "stdin",
     "output_type": "stream",
     "text": [
      "enter the cost price of a bike 7000\n"
     ]
    },
    {
     "name": "stdout",
     "output_type": "stream",
     "text": [
      "tax to be paid is 5%\n"
     ]
    }
   ],
   "source": [
    "#2.\n",
    "cost_price=int(input(\"enter the cost price of a bike\"))\n",
    "if cost_price>100000:\n",
    "    print (\"tax to be paid is 15%\")\n",
    "elif cost_price>50000 and cost_price<=100000:\n",
    "    print(\"tax to be paid is 10%\")\n",
    "else:\n",
    "    print(\"tax to be paid is 5%\")"
   ]
  },
  {
   "cell_type": "code",
   "execution_count": 6,
   "id": "80fe5176-d99c-44b8-82a1-3bd3c54ee0b9",
   "metadata": {},
   "outputs": [
    {
     "name": "stdin",
     "output_type": "stream",
     "text": [
      "enter the city jaipur\n"
     ]
    },
    {
     "name": "stdout",
     "output_type": "stream",
     "text": [
      "jal mahal\n"
     ]
    }
   ],
   "source": [
    "#3.\n",
    "city =input(\"enter the city\")\n",
    "if   city=='delhi':\n",
    "    print(\"red fort\")\n",
    "elif city=='agra':\n",
    "    print(\"taj mahal\")\n",
    "elif city=='jaipur':\n",
    "    print(\"jal mahal\")"
   ]
  },
  {
   "cell_type": "code",
   "execution_count": 2,
   "id": "c239627a-2b7f-41cb-9aea-d4a6cb254d5e",
   "metadata": {},
   "outputs": [
    {
     "name": "stdin",
     "output_type": "stream",
     "text": [
      "enter the number 100\n"
     ]
    },
    {
     "name": "stdout",
     "output_type": "stream",
     "text": [
      "3\n"
     ]
    }
   ],
   "source": [
    "#4\n",
    "number=int(input(\"enter the number\"))\n",
    "i=0\n",
    "while number>10:\n",
    "    number=number/3\n",
    "    i=i+1\n",
    "print(i)    \n",
    "    "
   ]
  },
  {
   "cell_type": "code",
   "execution_count": 3,
   "id": "433c2cb6-aef7-4d2c-a672-495b98039ac1",
   "metadata": {},
   "outputs": [
    {
     "data": {
      "text/plain": [
       "'Ans => Python while loop is used to run a block code until a certain condition is met.\\n      The syntax of while loop is:\\n      while condition:\\n      # body of while loop\\n      Here,\\n      A while loop evaluates the condition\\n      If the condition evaluates to True, the code inside the while loop is executed.\\n      condition is evaluated again.\\n      This process continues until the condition is False.\\n      When condition evaluates to False, the loop stops'"
      ]
     },
     "execution_count": 3,
     "metadata": {},
     "output_type": "execute_result"
    }
   ],
   "source": [
    "#5\n",
    "'''Ans => Python while loop is used to run a block code until a certain condition is met.\n",
    "      The syntax of while loop is:\n",
    "      while condition:\n",
    "      # body of while loop\n",
    "      Here,\n",
    "      A while loop evaluates the condition\n",
    "      If the condition evaluates to True, the code inside the while loop is executed.\n",
    "      condition is evaluated again.\n",
    "      This process continues until the condition is False.\n",
    "      When condition evaluates to False, the loop stops'''"
   ]
  },
  {
   "cell_type": "code",
   "execution_count": null,
   "id": "974ef5a5-a80a-454e-961e-bb0c8afd3cdb",
   "metadata": {},
   "outputs": [],
   "source": [
    "#6\n",
    "#pattern 1\n",
    "i=5\n",
    "while i<=5:\n",
    "    j=1\n",
    "    while j<=i:\n",
    "        print(\"*\",end='')\n",
    "        j+=1\n",
    "    print('')\n",
    "    i+=1\n",
    "    print(\"-----\")\n",
    "# Pattern 2:\n",
    "i = 5\n",
    "while i >= 1:\n",
    "    j = i\n",
    "    while j >= 1:\n",
    "        print(\"*\", end=\"\")\n",
    "        j -= 1\n",
    "    print(\"\")\n",
    "    i -= 1\n",
    "\n",
    "print(\"-----\")\n",
    "# Pattern 3:\n",
    "i = 5\n",
    "while i >= 1:\n",
    "    j = 1\n",
    "    while j <= 5:\n",
    "        if j >= i:\n",
    "            print(\"*\", end=\"\")\n",
    "        else:\n",
    "            print(\" \", end=\"\")\n",
    "        j += 1\n",
    "    print(\"\")\n",
    "    i -= 1\n"
   ]
  },
  {
   "cell_type": "code",
   "execution_count": 7,
   "id": "ba7f9399-3cbc-413b-bc94-96e64da8d0e2",
   "metadata": {},
   "outputs": [
    {
     "name": "stdout",
     "output_type": "stream",
     "text": [
      "*\n",
      "**\n",
      "***\n",
      "****\n",
      "*****\n",
      "-----\n",
      "*****\n",
      "****\n",
      "***\n",
      "**\n",
      "*\n",
      "-----\n",
      "    *\n",
      "   **\n",
      "  ***\n",
      " ****\n",
      "*****\n"
     ]
    }
   ],
   "source": [
    "#6\n",
    "#pattern 1\n",
    "i = 1\n",
    "while i <= 5:\n",
    "    j = 1\n",
    "    while j <= i:\n",
    "        print(\"*\", end=\"\")\n",
    "        j += 1\n",
    "    print(\"\")\n",
    "    i += 1\n",
    "    \n",
    "print(\"-----\")\n",
    "# Pattern 2:\n",
    "i = 5\n",
    "while i >= 1:\n",
    "    j = i\n",
    "    while j >= 1:\n",
    "        print(\"*\", end=\"\")\n",
    "        j -= 1\n",
    "    print(\"\")\n",
    "    i -= 1\n",
    "\n",
    "print(\"-----\")\n",
    "# Pattern 3:\n",
    "i = 5\n",
    "while i >= 1:\n",
    "    j = 1\n",
    "    while j <= 5:\n",
    "        if j >= i:\n",
    "            print(\"*\", end=\"\")\n",
    "        else:\n",
    "            print(\" \", end=\"\")\n",
    "        j += 1\n",
    "    print(\"\")\n",
    "    i -= 1"
   ]
  },
  {
   "cell_type": "code",
   "execution_count": 10,
   "id": "d79d2fde-c599-4cc3-8d68-b61bce3bbfd1",
   "metadata": {},
   "outputs": [
    {
     "name": "stdout",
     "output_type": "stream",
     "text": [
      "10\n",
      "9\n",
      "8\n",
      "7\n",
      "6\n",
      "5\n",
      "4\n",
      "3\n",
      "2\n",
      "1\n"
     ]
    }
   ],
   "source": [
    "#7.\n",
    "i=10\n",
    "while i>0:\n",
    "    print(i)\n",
    "    i=i-1"
   ]
  },
  {
   "cell_type": "code",
   "execution_count": 11,
   "id": "d3d90c32-53a4-4ae2-9c81-c854189e159f",
   "metadata": {},
   "outputs": [
    {
     "name": "stdout",
     "output_type": "stream",
     "text": [
      "10\n",
      "9\n",
      "8\n",
      "7\n",
      "6\n",
      "5\n",
      "4\n",
      "3\n",
      "2\n",
      "1\n"
     ]
    }
   ],
   "source": [
    "#8.\n",
    "i=10\n",
    "while i>0:\n",
    "    print(i)\n",
    "    i=i-1"
   ]
  }
 ],
 "metadata": {
  "kernelspec": {
   "display_name": "Python 3 (ipykernel)",
   "language": "python",
   "name": "python3"
  },
  "language_info": {
   "codemirror_mode": {
    "name": "ipython",
    "version": 3
   },
   "file_extension": ".py",
   "mimetype": "text/x-python",
   "name": "python",
   "nbconvert_exporter": "python",
   "pygments_lexer": "ipython3",
   "version": "3.10.8"
  }
 },
 "nbformat": 4,
 "nbformat_minor": 5
}
