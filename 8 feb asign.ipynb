{
 "cells": [
  {
   "cell_type": "code",
   "execution_count": 1,
   "id": "617d28d1-abd0-4136-b7ef-c1ac6ab55e24",
   "metadata": {},
   "outputs": [
    {
     "data": {
      "text/plain": [
       "'the mieage of tesla car is 10'"
      ]
     },
     "execution_count": 1,
     "metadata": {},
     "output_type": "execute_result"
    }
   ],
   "source": [
    "#!.\n",
    "\"\"\"Abstraction in python is defined as a process of handling complexity by hiding unnecessary information from the user. \n",
    "This is one of the core concepts of object-oriented programming (OOP) languages. \n",
    "That enables the user to implement even more complex logic on top of the provided abstraction without understanding or even thinking about all the hidden background/back-end complexity.\n",
    "ex:\"\"\"\n",
    "from abc import ABC\n",
    "class car(ABC):\n",
    "    def mileage(self):\n",
    "        pass\n",
    "class tesla(car):\n",
    "    def mileage(self):\n",
    "        return \"the mileage of tesla car is 10\"\n",
    "class duster(car):\n",
    "    def mileage(self):\n",
    "        return \"the mileage of duster car is 20\"\n",
    "    \n",
    "t=tesla()\n",
    "t.mileage()\n",
    "    "
   ]
  },
  {
   "cell_type": "code",
   "execution_count": 2,
   "id": "0f9c3e07-0fe2-494b-9222-81fb2fc0c28e",
   "metadata": {},
   "outputs": [
    {
     "data": {
      "text/plain": [
       "'the mileage of tesla car is 10'"
      ]
     },
     "execution_count": 2,
     "metadata": {},
     "output_type": "execute_result"
    }
   ],
   "source": [
    "#2.\n",
    "\"\"\"Abstraction is hiding the details and implementation of the code.\n",
    "Encapsulation is hiding the data and controlling the visibility of the code.\"\"\"\n",
    "# abstracton example\n",
    "from abc import ABC\n",
    "class car(ABC):\n",
    "    def mileage(self):\n",
    "        pass\n",
    "class tesla(car):\n",
    "    def mileage(self):\n",
    "        return \"the mileage of tesla car is 10\"\n",
    "class duster(car):\n",
    "    def mileage(self):\n",
    "        return \"the mileage of duster car is 20\"\n",
    "    \n",
    "t=tesla()\n",
    "t.mileage()"
   ]
  },
  {
   "cell_type": "code",
   "execution_count": 10,
   "id": "8a869e84-445b-45a9-8bc1-54ad234f1d36",
   "metadata": {},
   "outputs": [
    {
     "data": {
      "text/plain": [
       "2000"
      ]
     },
     "execution_count": 10,
     "metadata": {},
     "output_type": "execute_result"
    }
   ],
   "source": [
    "#encapsulation example\n",
    "class bank_account:\n",
    "    def __init__(self,balance):\n",
    "        self.__balance=balance\n",
    "    def deposit(self,amount):\n",
    "        self.__balance=self.__balance+amount\n",
    "        \n",
    "    def withdraw(self,amount):\n",
    "        if self.__balance>amount:\n",
    "            self.__balance=self.__balance-amount\n",
    "            return True \n",
    "        else:\n",
    "            False\n",
    "    def get_balance(self):\n",
    "        return self.__balance\n",
    "            \n",
    "sak=bank_account(1000)        \n",
    "sak.deposit(1000)\n",
    "sak.get_balance()\n",
    "    "
   ]
  },
  {
   "cell_type": "code",
   "execution_count": 11,
   "id": "8c9b5585-43c3-40a2-867c-4b53d14d1b7e",
   "metadata": {},
   "outputs": [
    {
     "data": {
      "text/plain": [
       "' The abc module in Python is the Abstract Base Class module. \\nIt is used to define abstract base classes, which provide a way to define interfaces in Python.\\nAn abstract base class is a class that cannot be instantiated, but can be subclassed. \\nThe purpose of an abstract base class is to specify the interface that its subclasses must implement, without specifying how that implementation should be done.\\n\\nThe abc module provides a way to create abstract base classes in Python by using the ABC class, as well as several decorators and methods to define abstract methods and properties.'"
      ]
     },
     "execution_count": 11,
     "metadata": {},
     "output_type": "execute_result"
    }
   ],
   "source": [
    "#3.\n",
    "\"\"\" The abc module in Python is the Abstract Base Class module. \n",
    "It is used to define abstract base classes, which provide a way to define interfaces in Python.\n",
    "An abstract base class is a class that cannot be instantiated, but can be subclassed. \n",
    "The purpose of an abstract base class is to specify the interface that its subclasses must implement, without specifying how that implementation should be done.\n",
    "\n",
    "The abc module provides a way to create abstract base classes in Python by using the ABC class, as well as several decorators and methods to define abstract methods and properties.\"\"\""
   ]
  },
  {
   "cell_type": "code",
   "execution_count": null,
   "id": "bb7fe2b8-e2ee-40ee-a6c4-b72fa7fc5c6f",
   "metadata": {},
   "outputs": [],
   "source": [
    "#4.\n",
    "\"\"\" Data abstraction is a programming concept that allows you to define the interface of an object without revealing the underlying implementation details. In other words, it provides a way to separate the implementation details of an object from the way it is used by other objects.\n",
    "\n",
    "There are several ways to achieve data abstraction in programming:\n",
    "\n",
    "Abstraction through classes: One of the most common ways to achieve data abstraction is through the use of classes. In object-oriented programming, classes provide a way to define objects with certain properties and methods, but hide the underlying implementation details from the rest of the code. For example, you can define a class with public methods that expose its behavior, but keep the implementation details private.\n",
    "\n",
    "Interfaces: An interface is a collection of abstract methods that must be implemented by any class that implements the interface. Interfaces are used to define a common set of behaviors that can be implemented by different classes, without specifying the implementation details. For example, in Java, you can define an interface that specifies the methods that must be implemented by a class that implements the interface.\n",
    "\n",
    "Modules: In some programming languages, like Python, you can use modules to define a set of related functions and variables, and hide the implementation details behind a well-defined interface. Modules provide a way to encapsulate the implementation details of a set of functions, and expose them to the rest of the code through a simple API.\n",
    "\n",
    "Information hiding: Information hiding is a programming concept that involves hiding the implementation details of an object or function behind a well-defined interface. Information hiding is used to protect the internal state of an object from being modified by external code, and to provide a clear and well-defined way for other objects to interact with the object.\"\"\""
   ]
  },
  {
   "cell_type": "code",
   "execution_count": null,
   "id": "7e466235-9a6f-495c-83c3-c057b9548fd4",
   "metadata": {},
   "outputs": [],
   "source": [
    "#5.\n",
    "\"\"\" \"\"\""
   ]
  }
 ],
 "metadata": {
  "kernelspec": {
   "display_name": "Python 3 (ipykernel)",
   "language": "python",
   "name": "python3"
  },
  "language_info": {
   "codemirror_mode": {
    "name": "ipython",
    "version": 3
   },
   "file_extension": ".py",
   "mimetype": "text/x-python",
   "name": "python",
   "nbconvert_exporter": "python",
   "pygments_lexer": "ipython3",
   "version": "3.10.8"
  }
 },
 "nbformat": 4,
 "nbformat_minor": 5
}
