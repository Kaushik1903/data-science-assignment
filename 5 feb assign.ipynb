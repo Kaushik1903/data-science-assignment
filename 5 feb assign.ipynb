{
 "cells": [
  {
   "cell_type": "code",
   "execution_count": 2,
   "id": "2bb53e9f-dc4d-41e7-89c8-7c26a20924cd",
   "metadata": {},
   "outputs": [
    {
     "data": {
      "text/plain": [
       "'A class is a blueprint for creating objects providing initial values for state , and implementations of behavior.\\n\\nAn object is an instance of a class, created at runtime. Each object has its own unique set of attributes and methods that operate on that data.'"
      ]
     },
     "execution_count": 2,
     "metadata": {},
     "output_type": "execute_result"
    }
   ],
   "source": [
    "#1.\n",
    "\"\"\"A class is a blueprint for creating objects providing initial values for state , and implementations of behavior.\n",
    "\n",
    "An object is an instance of a class, created at runtime. Each object has its own unique set of attributes and methods that operate on that data.\"\"\"\n",
    "\n"
   ]
  },
  {
   "cell_type": "code",
   "execution_count": 10,
   "id": "210b1287-0d97-4c9a-8940-757a9d18ff56",
   "metadata": {},
   "outputs": [
    {
     "name": "stdout",
     "output_type": "stream",
     "text": [
      "toyota\n",
      "alpha\n",
      "toyota,alpha is manufactured in 2019\n"
     ]
    }
   ],
   "source": [
    "#1.\n",
    "class car:\n",
    "    def __init__(self,name,model,year):\n",
    "        self.name=name\n",
    "        self.model=model\n",
    "        self.year=year\n",
    "    def description(self):\n",
    "        return f\"{self.name},{self.model} is manufactured in {self.year}\"\n",
    "my_car=car(\"toyota\",\"alpha\",2019) \n",
    "print(my_car.name)\n",
    "print (my_car.model)\n",
    "print(my_car.description())\n",
    "        "
   ]
  },
  {
   "cell_type": "code",
   "execution_count": 11,
   "id": "5ca65f9c-2e23-4a97-8b39-b8368c1f2d4a",
   "metadata": {},
   "outputs": [
    {
     "data": {
      "text/plain": [
       "' four pillar of oops are :\\nencapsulation\\ninheritance\\nabstracton\\npolymorphism'"
      ]
     },
     "execution_count": 11,
     "metadata": {},
     "output_type": "execute_result"
    }
   ],
   "source": [
    "#2.\n",
    "\"\"\" four pillar of oops are :\n",
    "encapsulation\n",
    "inheritance\n",
    "abstracton\n",
    "polymorphism\"\"\"\n"
   ]
  },
  {
   "cell_type": "code",
   "execution_count": 12,
   "id": "6f50cba5-4d25-4922-bfe6-b4f8adbc04bb",
   "metadata": {},
   "outputs": [
    {
     "name": "stdout",
     "output_type": "stream",
     "text": [
      "toyota\n",
      "alpha\n",
      "toyota,alpha is manufactured in 2019\n"
     ]
    }
   ],
   "source": [
    "#3.\n",
    "\"\"\" The init method is a special method in Python classes that acts as a constructor.\n",
    "It is automatically called when an object of the class is created. \n",
    "The init method is used to initialize the attributes of the class and set the default values. \"\"\"\n",
    "class car:\n",
    "    def __init__(self,name,model,year):\n",
    "        self.name=name\n",
    "        self.model=model\n",
    "        self.year=year\n",
    "    def description(self):\n",
    "        return f\"{self.name},{self.model} is manufactured in {self.year}\"\n",
    "my_car=car(\"toyota\",\"alpha\",2019) \n",
    "print(my_car.name)\n",
    "print (my_car.model)\n",
    "print(my_car.description())\n",
    "        "
   ]
  },
  {
   "cell_type": "code",
   "execution_count": 13,
   "id": "a70fae96-186b-4e95-b203-b7733b07ae84",
   "metadata": {},
   "outputs": [
    {
     "data": {
      "text/plain": [
       "'self is a reference to the current instance of the class.\\nIt is used to access the attributes and methods of the class within the class definition'"
      ]
     },
     "execution_count": 13,
     "metadata": {},
     "output_type": "execute_result"
    }
   ],
   "source": [
    "#4.\n",
    "\"\"\"self is a reference to the current instance of the class.\n",
    "It is used to access the attributes and methods of the class within the class definition\"\"\"\n"
   ]
  },
  {
   "cell_type": "code",
   "execution_count": 18,
   "id": "006a1f5f-4935-42fb-9ecb-4c4bc92838ab",
   "metadata": {},
   "outputs": [
    {
     "name": "stdout",
     "output_type": "stream",
     "text": [
      "this is a parent class\n",
      "this is a child class\n"
     ]
    }
   ],
   "source": [
    "#5.\n",
    "\"\"\"Single inheritance enables a derived class to inherit properties from a single parent class,\n",
    "thus enabling code reusability and the addition of new features to existing code.\"\"\"\n",
    "class parent:\n",
    "    def func1(self):\n",
    "        print(\"this is a parent class\")\n",
    "        \n",
    "class child(parent):\n",
    "    def func2(self):\n",
    "        print(\"this is a child class\")\n",
    "object= child()\n",
    "object.func1()\n",
    "object.func2()"
   ]
  },
  {
   "cell_type": "code",
   "execution_count": 22,
   "id": "59d6f20d-644d-4962-8333-975dd4fe8a35",
   "metadata": {},
   "outputs": [
    {
     "name": "stdout",
     "output_type": "stream",
     "text": [
      "mother name is sita\n",
      "father name is: ram\n"
     ]
    }
   ],
   "source": [
    "\"\"\" MULTIPLE INHERITANCE:When a class can be derived from more than one base class this type of inheritance is called multiple inheritances. \n",
    "In multiple inheritances, all the features of the base classes are inherited into the derived class.\"\"\"\n",
    "class mother:\n",
    "    mothername=\" \"\n",
    "    def mothername(self):\n",
    "        print(self.mothername)\n",
    "class father:\n",
    "    fathername=\"\"\n",
    "    def fathername(self):\n",
    "        print(self.fathername)\n",
    "class son(mother,father):\n",
    "    def parents(self):\n",
    "        print(\"mother name is\",self.mothername)\n",
    "        print(\"father name is:\",self.fathername)\n",
    "s1=son()\n",
    "s1.fathername=\"ram\"\n",
    "s1.mothername=\"sita\"\n",
    "s1.parents()\n",
    "        \n"
   ]
  },
  {
   "cell_type": "code",
   "execution_count": 29,
   "id": "0afb4a55-be7c-4b33-bdc7-44666a713918",
   "metadata": {},
   "outputs": [
    {
     "ename": "AttributeError",
     "evalue": "'son' object has no attribute 'father'",
     "output_type": "error",
     "traceback": [
      "\u001b[0;31m---------------------------------------------------------------------------\u001b[0m",
      "\u001b[0;31mAttributeError\u001b[0m                            Traceback (most recent call last)",
      "Cell \u001b[0;32mIn[29], line 21\u001b[0m\n\u001b[1;32m     18\u001b[0m         \u001b[38;5;28mprint\u001b[39m(\u001b[38;5;124m\"\u001b[39m\u001b[38;5;124mson name is : \u001b[39m\u001b[38;5;124m\"\u001b[39m,\u001b[38;5;28mself\u001b[39m\u001b[38;5;241m.\u001b[39mson)\n\u001b[1;32m     20\u001b[0m s1\u001b[38;5;241m=\u001b[39mson(\u001b[38;5;124m'\u001b[39m\u001b[38;5;124mprince\u001b[39m\u001b[38;5;124m'\u001b[39m,\u001b[38;5;124m'\u001b[39m\u001b[38;5;124mram\u001b[39m\u001b[38;5;124m'\u001b[39m,\u001b[38;5;124m'\u001b[39m\u001b[38;5;124mlal\u001b[39m\u001b[38;5;124m'\u001b[39m)\n\u001b[0;32m---> 21\u001b[0m \u001b[38;5;28mprint\u001b[39m(\u001b[43ms1\u001b[49m\u001b[38;5;241;43m.\u001b[39;49m\u001b[43mfather\u001b[49m)\n",
      "\u001b[0;31mAttributeError\u001b[0m: 'son' object has no attribute 'father'"
     ]
    }
   ],
   "source": [
    "\"\"\"MULTILEVEL INHERITANCE:In multilevel inheritance, features of the base class and the derived class are further inherited into the new derived class.\n",
    "This is similar to a relationship representing a child and a grandfather.\"\"\"\n",
    "class grandfather:\n",
    "    def __init__(self,grandfather):\n",
    "        self.grandfather=grandfather\n",
    "class father(grandfather):\n",
    "    def __init__(self,grandfather,fathername):\n",
    "        self.fathername=fathername\n",
    "        grandfather.__init__(self,grandfather)\n",
    "class son(father):\n",
    "    def __init__(self,grandfather,fathername,son):\n",
    "        self.son=son\n",
    "        father.__init__(self,grandfather,fathername)\n",
    "        \n",
    "    def printname(self):\n",
    "        print(\"grandfather name is:\",self.grandfather)\n",
    "        print(\"father name is :\",self.fathername)\n",
    "        print(\"son name is : \",self.son)\n",
    "        \n",
    "s1=son('prince','ram','lal')\n",
    "print(s1.father)\n",
    "\n",
    "        \n"
   ]
  },
  {
   "cell_type": "code",
   "execution_count": null,
   "id": "bf3a04de-006b-4209-83f9-1316de70e205",
   "metadata": {},
   "outputs": [],
   "source": []
  }
 ],
 "metadata": {
  "kernelspec": {
   "display_name": "Python 3 (ipykernel)",
   "language": "python",
   "name": "python3"
  },
  "language_info": {
   "codemirror_mode": {
    "name": "ipython",
    "version": 3
   },
   "file_extension": ".py",
   "mimetype": "text/x-python",
   "name": "python",
   "nbconvert_exporter": "python",
   "pygments_lexer": "ipython3",
   "version": "3.10.8"
  }
 },
 "nbformat": 4,
 "nbformat_minor": 5
}
