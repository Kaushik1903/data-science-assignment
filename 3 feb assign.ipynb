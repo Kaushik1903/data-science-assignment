{
 "cells": [
  {
   "cell_type": "code",
   "execution_count": 9,
   "id": "8d947015-16a3-4350-89a9-8dd41f187f5b",
   "metadata": {},
   "outputs": [
    {
     "data": {
      "text/plain": [
       "[1, 3, 5, 7, 9, 11, 13, 15, 17, 19, 21, 23, 25]"
      ]
     },
     "execution_count": 9,
     "metadata": {},
     "output_type": "execute_result"
    }
   ],
   "source": [
    "#1.\n",
    "\"\"\" def keyword is used to create a function\"\"\"\n",
    "def odd_number():\n",
    "    odd_list=[]\n",
    "    for i in range(1, 26):\n",
    "        if i%2!=0:\n",
    "            odd_list.append(i)\n",
    "    return odd_list \n",
    "odd_number()            "
   ]
  },
  {
   "cell_type": "code",
   "execution_count": 2,
   "id": "53fa5888-6296-416b-8273-32b16a236aef",
   "metadata": {},
   "outputs": [],
   "source": [
    "#2.\n",
    "'''args and kwargs are used in functions to allow them to accept a varying number of arguments.\n",
    "*args is used to send a non-keyworded variable length argument list to the function.\n",
    "It allows you to pass a variable number of arguments to a function, which will be received as a tuple. \n",
    "kwargs is used to pass keyworded variable length of arguments to a function, which will be received as a dictionary.\n",
    "Here's an example of how you can use args and *kwargs in a function:'''\n",
    "def print_args(*args):\n",
    "    print(\"Arguments passed as *args:\", args)\n",
    "    \n",
    "def print_kwargs(**kwargs):\n",
    "    print(\"Arguments passed as **kwargs:\", kwargs)\n"
   ]
  },
  {
   "cell_type": "code",
   "execution_count": 4,
   "id": "85eaa854-d32c-40ba-b19a-a67be31eec37",
   "metadata": {},
   "outputs": [
    {
     "name": "stdout",
     "output_type": "stream",
     "text": [
      "2\n",
      "4\n",
      "6\n",
      "8\n",
      "10\n"
     ]
    }
   ],
   "source": [
    "#3.\n",
    "\"\"\" An iterator is an object that contain countable no. of variables or an object which implements the iterator protocol.\n",
    "It uses iter() for initialization and next() methods.\n",
    "ex:\"\"\"\n",
    "mytuple=[2,4,6,8,10,12,14,16,18,20]\n",
    "myit=iter(mytuple)\n",
    "print(next(myit))\n",
    "print(next(myit))\n",
    "print(next(myit))\n",
    "print(next(myit))\n",
    "print(next(myit))\n"
   ]
  },
  {
   "cell_type": "code",
   "execution_count": 5,
   "id": "a79adfd8-a5db-4318-b051-1e397464dea0",
   "metadata": {},
   "outputs": [
    {
     "name": "stdout",
     "output_type": "stream",
     "text": [
      "0\n",
      "1\n",
      "1\n",
      "2\n",
      "3\n",
      "5\n",
      "8\n",
      "13\n"
     ]
    }
   ],
   "source": [
    "#4.\n",
    "'''generator function defined like a normal function but whenever it needs to generate a value ,it does with yield keyword.\n",
    "Whenever  a def body contains a yield it automatically become a generator function.\n",
    "Return sends a specified value back to its caller whereas Yield can produce a sequence of values.\n",
    "We should use yield when we want to iterate over a sequence, but don’t want to store the entire sequence in memory.'''\n",
    "\n",
    "def fibonacci_number(limit):\n",
    "    a=0\n",
    "    b=1\n",
    "    while a<limit:\n",
    "        yield a \n",
    "        a,b=b,a+b\n",
    "fib=  fibonacci_number(20) \n",
    "\n",
    "for i in fib:\n",
    "    print(i)"
   ]
  },
  {
   "cell_type": "code",
   "execution_count": 7,
   "id": "ff29e728-46f5-441d-ba35-e925d9dcce17",
   "metadata": {},
   "outputs": [
    {
     "name": "stdout",
     "output_type": "stream",
     "text": [
      "The first 20 prime numbers:\n",
      "2\n",
      "3\n",
      "5\n",
      "7\n",
      "11\n",
      "13\n",
      "17\n",
      "19\n",
      "23\n",
      "29\n",
      "31\n",
      "37\n",
      "41\n",
      "43\n",
      "47\n",
      "53\n",
      "59\n",
      "61\n",
      "67\n",
      "71\n"
     ]
    }
   ],
   "source": [
    "#5.\n",
    "def prime_numbers():\n",
    "    yield 2\n",
    "    primes = [2]\n",
    "    candidate = 3\n",
    "    while candidate < 1000:\n",
    "        is_prime = True\n",
    "        for prime in primes:\n",
    "            if candidate % prime == 0:\n",
    "                is_prime = False\n",
    "                break\n",
    "        if is_prime:\n",
    "            primes.append(candidate)\n",
    "            yield candidate\n",
    "        candidate += 2\n",
    "\n",
    "primes = prime_numbers()\n",
    "\n",
    "print(\"The first 20 prime numbers:\")\n",
    "for i in range(20):\n",
    "    print(next(primes))\n"
   ]
  },
  {
   "cell_type": "code",
   "execution_count": 9,
   "id": "403cf228-349c-476b-b0c4-35946f5028a9",
   "metadata": {},
   "outputs": [
    {
     "name": "stdout",
     "output_type": "stream",
     "text": [
      "0\n",
      "1\n",
      "1\n",
      "2\n",
      "3\n",
      "5\n",
      "8\n",
      "13\n",
      "21\n",
      "34\n"
     ]
    }
   ],
   "source": [
    "#6.\n",
    "a=0\n",
    "b=1\n",
    "count=0\n",
    "    \n",
    "while count<10:\n",
    "    print(a)\n",
    "    a,b=b,a+b\n",
    "    count+=1\n",
    "        "
   ]
  },
  {
   "cell_type": "code",
   "execution_count": 10,
   "id": "27628ce7-7212-41db-95bd-1ac4e2af297a",
   "metadata": {},
   "outputs": [
    {
     "name": "stdout",
     "output_type": "stream",
     "text": [
      "['p', 'w', 's', 'k', 'i', 'l', 'l', 's']\n"
     ]
    }
   ],
   "source": [
    "#7.\n",
    "string=\"pwskills\"\n",
    "character=[char for char in string]\n",
    "print(character)\n"
   ]
  },
  {
   "cell_type": "code",
   "execution_count": 11,
   "id": "9f0037f6-b97f-4fe4-9ce2-a891b6466744",
   "metadata": {},
   "outputs": [
    {
     "name": "stdin",
     "output_type": "stream",
     "text": [
      "Enter a number:  12321\n"
     ]
    },
    {
     "name": "stdout",
     "output_type": "stream",
     "text": [
      "12321 is a palindrome.\n"
     ]
    }
   ],
   "source": [
    "#8.\n",
    "def is_palindrome(num):\n",
    "    original = num\n",
    "    reverse = 0\n",
    "    while num > 0:\n",
    "        digit = num % 10\n",
    "        reverse = reverse * 10 + digit\n",
    "        num = num // 10\n",
    "    return original == reverse\n",
    "\n",
    "number = int(input(\"Enter a number: \"))\n",
    "if is_palindrome(number):\n",
    "    print(f\"{number} is a palindrome.\")\n",
    "else:\n",
    "    print(f\"{number} is not a palindrome.\")\n"
   ]
  },
  {
   "cell_type": "code",
   "execution_count": 28,
   "id": "5769f62f-2110-44c3-ad09-28ff12cf8b4e",
   "metadata": {},
   "outputs": [
    {
     "ename": "TypeError",
     "evalue": "'tuple' object is not callable",
     "output_type": "error",
     "traceback": [
      "\u001b[0;31m---------------------------------------------------------------------------\u001b[0m",
      "\u001b[0;31mTypeError\u001b[0m                                 Traceback (most recent call last)",
      "Cell \u001b[0;32mIn[28], line 2\u001b[0m\n\u001b[1;32m      1\u001b[0m \u001b[38;5;66;03m#9.\u001b[39;00m\n\u001b[0;32m----> 2\u001b[0m range_1 \u001b[38;5;241m=\u001b[39m \u001b[38;5;28;43mrange\u001b[39;49m\u001b[43m(\u001b[49m\u001b[38;5;241;43m1\u001b[39;49m\u001b[43m,\u001b[49m\u001b[38;5;241;43m101\u001b[39;49m\u001b[43m)\u001b[49m\n\u001b[1;32m      4\u001b[0m list_1 \u001b[38;5;241m=\u001b[39m \u001b[38;5;28mlist\u001b[39m()\n\u001b[1;32m      5\u001b[0m \u001b[38;5;28;01mfor\u001b[39;00m x \u001b[38;5;129;01min\u001b[39;00m range_1 :\n",
      "\u001b[0;31mTypeError\u001b[0m: 'tuple' object is not callable"
     ]
    }
   ],
   "source": [
    "#9.\n",
    "def odd_number():\n",
    "    return [x for x in range(1,101) if x%2!=0]\n",
    "print(odd_number())"
   ]
  },
  {
   "cell_type": "code",
   "execution_count": null,
   "id": "f6cfbfb0-f518-4b75-a440-03b7dc764957",
   "metadata": {},
   "outputs": [],
   "source": []
  }
 ],
 "metadata": {
  "kernelspec": {
   "display_name": "Python 3 (ipykernel)",
   "language": "python",
   "name": "python3"
  },
  "language_info": {
   "codemirror_mode": {
    "name": "ipython",
    "version": 3
   },
   "file_extension": ".py",
   "mimetype": "text/x-python",
   "name": "python",
   "nbconvert_exporter": "python",
   "pygments_lexer": "ipython3",
   "version": "3.10.8"
  }
 },
 "nbformat": 4,
 "nbformat_minor": 5
}
