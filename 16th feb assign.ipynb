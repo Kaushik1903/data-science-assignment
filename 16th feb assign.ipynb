{
 "cells": [
  {
   "cell_type": "code",
   "execution_count": 1,
   "id": "52479e61-f459-4978-9b89-349d30053bf1",
   "metadata": {},
   "outputs": [
    {
     "data": {
      "text/plain": [
       "'1.A database is an organized collection of data, so that it can be easily accessed and managed.\\n\\nYou can organize data into tables, rows, columns, and index it to make it easier to find relevant information.\\n differnce between SQL and NOSQL:\\n \\nSQL:\\n RELATIONAL DATABASE MANAGEMENT SYSTEM (RDBMS)\\t                   Non-relational or distributed database system.\\nThese databases have fixed or static or predefined schema\\t       They have dynamic schema\\nThese databases are not suited for hierarchical data storage.\\t   These databases are best suited for hierarchical data storage.\\nThese databases are best suited for complex queries\\t               These databases are not so good for complex queries\\nVertically Scalable                                             \\tHorizontally scalable\\nFollows ACID property\\t                                            Follows CAP(consistency, availability, partition tolerance)\\nExamples: MySQL, PostgreSQL, Oracle, MS-SQL Server, etc\\t            Examples: MongoDB, GraphQL, HBase, Neo4j, Cassandra, etc\\n\\n'"
      ]
     },
     "execution_count": 1,
     "metadata": {},
     "output_type": "execute_result"
    }
   ],
   "source": [
    "\"\"\"1.A database is an organized collection of data, so that it can be easily accessed and managed.\n",
    "\n",
    "You can organize data into tables, rows, columns, and index it to make it easier to find relevant information.\n",
    " differnce between SQL and NOSQL:\n",
    " \n",
    "SQL:\n",
    " RELATIONAL DATABASE MANAGEMENT SYSTEM (RDBMS)\t                   Non-relational or distributed database system.\n",
    "These databases have fixed or static or predefined schema\t       They have dynamic schema\n",
    "These databases are not suited for hierarchical data storage.\t   These databases are best suited for hierarchical data storage.\n",
    "These databases are best suited for complex queries\t               These databases are not so good for complex queries\n",
    "Vertically Scalable                                             \tHorizontally scalable\n",
    "Follows ACID property\t                                            Follows CAP(consistency, availability, partition tolerance)\n",
    "Examples: MySQL, PostgreSQL, Oracle, MS-SQL Server, etc\t            Examples: MongoDB, GraphQL, HBase, Neo4j, Cassandra, etc\n",
    "\n",
    "\"\"\""
   ]
  },
  {
   "cell_type": "code",
   "execution_count": null,
   "id": "989e5b27-ed5e-43b0-91ff-d045c5f98c77",
   "metadata": {},
   "outputs": [],
   "source": [
    "2.\n",
    "\"\"\"DDL is a set of SQL commands used to create, modify, and delete database structures but not data.\n",
    "->CREATE: This command is used to create the database or its objects (like table, index, function, views, store procedure, and triggers).\n",
    "EX:\n",
    "CREATE TABLE Subject\n",
    "(\n",
    "Sub_ID INT, \n",
    "Sub_Name varchar(20)\n",
    ");\n",
    "\n",
    "-> DROP:This command is used to delete objects from the database.\n",
    "EX:DROP TABLE table_name;\n",
    "\n",
    "-> ALTER:This is used to alter the structure of the database.\n",
    "EX:ALTER TABLE table_name\n",
    "              ADD (Columnname_1  datatype,\n",
    "              Columnname_2  datatype,\n",
    "              …\n",
    "              Columnname_n  datatype);\n",
    "              \n",
    "->  TRUNCATE:This is used to remove all records from a table, including all spaces allocated for the records are removed.\n",
    "EX:TRUNCATE TABLE Student_details;\"\"\"\n"
   ]
  },
  {
   "cell_type": "markdown",
   "id": "8b5bbd88-0415-4179-951c-e741013ac5ae",
   "metadata": {
    "jp-MarkdownHeadingCollapsed": true,
    "tags": []
   },
   "source": [
    "3.\n",
    "\"\"\" DML stands for Data Manipulation Language, which is a set of SQL commands used to insert, update, and delete data in a database table. DML commands are used to modify the data stored in a table.\n",
    "\n",
    "The following are some of the commonly used DML commands and their usage:\n",
    "\n",
    "INSERT: The INSERT command is used to insert new data into a table. For example, to insert a new row into the \"users\" table with ID 1, name \"John\", and email \"john@example.com\", we can use the following SQL statement: UPDATE: The UPDATE command is used to update existing data in a table. For example, to update the email address of the user with ID 1 to \"john.doe@example.com\", we can use the following SQL statement: sql DELETE: The DELETE command is used to delete data from a table. For example, to delete the user with ID 1 from the \"users\" table, we can use the following SQL statement:\"\"\""
   ]
  },
  {
   "cell_type": "code",
   "execution_count": 3,
   "id": "3fb35429-7095-4112-9049-865598ac27ea",
   "metadata": {},
   "outputs": [
    {
     "data": {
      "text/plain": [
       "\" 4. DQL stands for Data Query Language, which is a set of SQL commands used to retrieve data from a database table. \\nDQL commands are used to query the data stored in a table.\\n\\nThe most commonly used DQL command is SELECT. \\nThe SELECT command is used to retrieve data from one or more tables. Here's an example of how to use the SELECT command:\\nSELECT* from TABLE table_name;\""
      ]
     },
     "execution_count": 3,
     "metadata": {},
     "output_type": "execute_result"
    }
   ],
   "source": [
    "\"\"\" 4. DQL stands for Data Query Language, which is a set of SQL commands used to retrieve data from a database table. \n",
    "DQL commands are used to query the data stored in a table.\n",
    "\n",
    "The most commonly used DQL command is SELECT. \n",
    "The SELECT command is used to retrieve data from one or more tables. Here's an example of how to use the SELECT command:\n",
    "SELECT* from TABLE table_name;\"\"\""
   ]
  },
  {
   "cell_type": "code",
   "execution_count": 4,
   "id": "b6991332-8f35-4b23-9b44-81e759da9d45",
   "metadata": {},
   "outputs": [
    {
     "data": {
      "text/plain": [
       "' 5. a primary key is a unique identifier for each row in a table.\\nIt is a column or combination of columns that uniquely identifies each record in a table. \\nThe primary key constraint ensures that the values in the primary key column(s) are unique and not null.\\nFor example, in a \"users\" table, the \"id\" column can be the primary key if each user has a unique ID number.\\n\\nA foreign key is a column or combination of columns in one table that refers to the primary key of another table.\\nIt establishes a relationship between two tables, where the values in the foreign key column(s) of one table match the values in the primary key column(s) of another table.\\nFor example, in a \"orders\" table, the \"user_id\" column can be a foreign key that refers to the \"id\" column of the \"users\" table, indicating which user placed each order.\\n'"
      ]
     },
     "execution_count": 4,
     "metadata": {},
     "output_type": "execute_result"
    }
   ],
   "source": [
    "\"\"\" 5. a primary key is a unique identifier for each row in a table.\n",
    "It is a column or combination of columns that uniquely identifies each record in a table. \n",
    "The primary key constraint ensures that the values in the primary key column(s) are unique and not null.\n",
    "For example, in a \"users\" table, the \"id\" column can be the primary key if each user has a unique ID number.\n",
    "\n",
    "A foreign key is a column or combination of columns in one table that refers to the primary key of another table.\n",
    "It establishes a relationship between two tables, where the values in the foreign key column(s) of one table match the values in the primary key column(s) of another table.\n",
    "For example, in a \"orders\" table, the \"user_id\" column can be a foreign key that refers to the \"id\" column of the \"users\" table, indicating which user placed each order.\n",
    "\"\"\""
   ]
  },
  {
   "cell_type": "raw",
   "id": "72b350e4-9f91-4dbc-84ff-90903a1ef471",
   "metadata": {},
   "source": [
    "6.\n",
    "import mysql.connector\n",
    "mydb=mysql.connector.connect{\n",
    "host='localhost'\n",
    "user='abc'\n",
    "password='password'\n",
    "}\n",
    "print(mydb)\n",
    "mycursor=mydb.cursor()\n",
    "mydb.close()\n",
    "\n",
    "The cursor() method in Python is used to create a cursor object, which allows us to execute SQL commands on the database. The cursor object provides methods to execute SQL commands, fetch data from the database, and handle transactions.\n",
    "\n",
    "The execute() method is used to execute SQL commands on the database using the cursor object. It takes an SQL query as its argument and returns the result of the query. For example, to execute a SELECT query on a MySQL database using the cursor object.\n"
   ]
  },
  {
   "cell_type": "raw",
   "id": "a7b58ec6-2001-49de-91b6-9ebbc56b8f6a",
   "metadata": {},
   "source": [
    "7.\n",
    "SELECT: Specifies the columns to be retrieved from the database table. FROM: Specifies the table from which to retrieve the data. JOIN: Combines multiple tables based on a common column. WHERE: Filters the data based on certain conditions. GROUP BY: Groups the data based on one or more"
   ]
  }
 ],
 "metadata": {
  "kernelspec": {
   "display_name": "Python 3 (ipykernel)",
   "language": "python",
   "name": "python3"
  },
  "language_info": {
   "codemirror_mode": {
    "name": "ipython",
    "version": 3
   },
   "file_extension": ".py",
   "mimetype": "text/x-python",
   "name": "python",
   "nbconvert_exporter": "python",
   "pygments_lexer": "ipython3",
   "version": "3.10.8"
  }
 },
 "nbformat": 4,
 "nbformat_minor": 5
}
