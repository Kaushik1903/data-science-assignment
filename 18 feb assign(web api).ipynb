{
 "cells": [
  {
   "cell_type": "code",
   "execution_count": null,
   "id": "109851f4-6619-4597-a7c8-6843b71da742",
   "metadata": {},
   "outputs": [],
   "source": [
    "\"\"\"\n",
    "1.Application Programming Interface (API) is a software interface that allows two applications to interact with each other without any user intervention. \n",
    "API is a collection of software functions and procedures. \n",
    "In simple terms, API means a software code that can be accessed or executed. \n",
    "API is defined as a code that helps two different software’s to communicate and exchange data with each other.\n",
    "\n",
    "Sharing flight information between airlines and travel sites\n",
    "Using Google Maps in a rideshare app\n",
    "Building chatbots in a messaging service\n",
    "Embedding YouTube videos into a webpage\n",
    "Automating workflows between B2B software tools\"\"\"\n"
   ]
  },
  {
   "cell_type": "code",
   "execution_count": null,
   "id": "9ac2ed85-2f38-4cb6-a302-6df5847a9a5d",
   "metadata": {},
   "outputs": [],
   "source": [
    "\"\"\"2.\n",
    "API advantages:\n",
    "\n",
    "Can provide a way to access functionality or data that is not otherwise readily available or accessible.\n",
    "Can provide a way to automate tasks.\n",
    "Can help to improve communication between disparate systems.\n",
    "API disadvantages:\n",
    "\n",
    "Can be difficult to use and understand.\n",
    "Cannot be guaranteed to be stable or backwards compatible.\n",
    "May require a certain level of technical expertise in order to use them effectively.\"\"\""
   ]
  },
  {
   "cell_type": "code",
   "execution_count": null,
   "id": "fe194d62-7c4e-42e4-95e8-1739c28b3c28",
   "metadata": {},
   "outputs": [],
   "source": [
    "\"\"\"3.\n",
    "A Web API is an application programming interface for the Web.\n",
    "\n",
    "Web service is a collection of open source protocols and standards used for exchanging data between systems or applications, whereas API is a software interface that allows two applications to interact with each other without any user involvement.\n",
    "Web service is used for REST, SOAP, and XML-RPC for communication, while API is used for any style of communication.\n",
    "Web service supports only HTTP protocol, whereas API supports HTTP/HTTPS protocol.\n",
    "Web service supports XML, while API supports XML and JSON.\n",
    "All Web services are APIs, but all APIs are not web services.\"\"\""
   ]
  },
  {
   "cell_type": "code",
   "execution_count": null,
   "id": "23951fcf-9d34-401a-9cb5-6881e39fb47f",
   "metadata": {},
   "outputs": [],
   "source": [
    "\"\"\"4.\n",
    "REST is a set of guidelines that offers flexible implementation, whereas SOAP is a protocol with specific requirements like XML messaging.\n",
    "\n",
    "REST APIs are lightweight, making them ideal for newer contexts like the Internet of Things (IoT), mobile application development, and serverless computing. \n",
    "SOAP web services offer built-in security and transaction compliance that align with many enterprise needs, but that also makes them heavier. \n",
    "Additionally, many public APIs, like the Google Maps API, follow the REST guidelines.\n",
    "\n",
    "Highly complex\n",
    "\n",
    "In comparison to Rest, SOAP is significantly more complex. It's also less flexible. This might present a challenge for developers that are not highly skilled. The extensive processing required may also slow down performance.\n",
    "No variety of data formats\n",
    "\n",
    "SOAP is also extremely limited in its support of data formats. The formats supported by Rest include HTML, JSON, YAML, XML and others. Meanwhile, SOAP only supports XML.\n",
    "API calls are not cached\n",
    "\n",
    "The process where a request is sent after an API is set up with the correct endpoints is referred to as an API call. The process results in the information being transferred, processed and feedback being provided. It's not possible for SOAP API calls to be cached.\n",
    "Uses more bandwidth\n",
    "\n",
    "SOAP is generally slower in comparison to Rest and it also uses more bandwidth given its very complex nature. It’s another limiting factor in the efficacy of this technology for certain projects.\"\"\""
   ]
  },
  {
   "cell_type": "code",
   "execution_count": null,
   "id": "bdb1931e-0b38-44cb-bb25-8b1109a60fd4",
   "metadata": {},
   "outputs": [],
   "source": []
  }
 ],
 "metadata": {
  "kernelspec": {
   "display_name": "Python 3 (ipykernel)",
   "language": "python",
   "name": "python3"
  },
  "language_info": {
   "codemirror_mode": {
    "name": "ipython",
    "version": 3
   },
   "file_extension": ".py",
   "mimetype": "text/x-python",
   "name": "python",
   "nbconvert_exporter": "python",
   "pygments_lexer": "ipython3",
   "version": "3.10.8"
  }
 },
 "nbformat": 4,
 "nbformat_minor": 5
}
