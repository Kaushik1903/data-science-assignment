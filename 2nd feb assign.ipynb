{
 "cells": [
  {
   "cell_type": "code",
   "execution_count": 1,
   "id": "3f7478f0-e273-44f9-b692-f8afe40d82ce",
   "metadata": {},
   "outputs": [
    {
     "name": "stdout",
     "output_type": "stream",
     "text": [
      "1\n",
      "2\n",
      "3\n",
      "4\n",
      "5\n"
     ]
    }
   ],
   "source": [
    "#1.\n",
    "\"\"\"while loop: with while loop we can execute a set of statements as long as the conditionis true\"\"\"\n",
    "i = 1\n",
    "while i < 6:\n",
    "  print(i)\n",
    "  i += 1"
   ]
  },
  {
   "cell_type": "code",
   "execution_count": 2,
   "id": "3b4bcd47-f674-4153-be50-97c5d995bf84",
   "metadata": {},
   "outputs": [
    {
     "name": "stdout",
     "output_type": "stream",
     "text": [
      "apple\n",
      "banana\n",
      "cherry\n"
     ]
    }
   ],
   "source": [
    "\"\"\" for loop: it is used for iterating over the set of statement\"\"\"\n",
    "fruits = [\"apple\", \"banana\", \"cherry\"]\n",
    "for x in fruits:\n",
    "  print(x)"
   ]
  },
  {
   "cell_type": "code",
   "execution_count": 3,
   "id": "97a177ec-f1cb-41db-ab1a-ae2491aee8d2",
   "metadata": {},
   "outputs": [
    {
     "name": "stdout",
     "output_type": "stream",
     "text": [
      "the sum of 10 no.s are 10\n",
      "the product of the 10 no.s are 3628800\n"
     ]
    }
   ],
   "source": [
    "#2.\n",
    "#for loop\n",
    "sum=0\n",
    "product=1\n",
    "for i in range(1,11):\n",
    "    sum=sum+1\n",
    "    product=product*i\n",
    "print(\"the sum of 10 no.s are\",sum)\n",
    "print(\"the product of the 10 no.s are\",product)"
   ]
  },
  {
   "cell_type": "code",
   "execution_count": 2,
   "id": "8dabcc34-ecfe-4d07-bae6-b85f3f451ff4",
   "metadata": {},
   "outputs": [
    {
     "name": "stdout",
     "output_type": "stream",
     "text": [
      "sum of 10 nos are: 55\n",
      "product of 10 nos are: 3628800\n"
     ]
    }
   ],
   "source": [
    "#while loop\n",
    "sum=0\n",
    "products =1\n",
    "i=1\n",
    "while (i<11):\n",
    "    sum = sum+i\n",
    "    products = products*i\n",
    "    i +=1\n",
    "print(\"sum of 10 nos are:\",sum)\n",
    "print(\"product of 10 nos are:\",products)"
   ]
  },
  {
   "cell_type": "code",
   "execution_count": 18,
   "id": "626ae7fa-ff73-41f3-bc57-e4e7db3035b9",
   "metadata": {},
   "outputs": [
    {
     "name": "stdin",
     "output_type": "stream",
     "text": [
      "Enter Units:  310\n"
     ]
    },
    {
     "name": "stdout",
     "output_type": "stream",
     "text": [
      "Total Electricity Bill Rs.2250\n"
     ]
    }
   ],
   "source": [
    "#3.\n",
    "units = int(input('Enter Units: '))\n",
    "bill = 0\n",
    "if units <= 100:\n",
    "    bill += 4.5*units\n",
    "    units -= 100\n",
    "elif units > 100 and units <= 200:\n",
    "    bill += 450\n",
    "    units -= 100\n",
    "    bill += 6*units\n",
    "elif units > 200 and units <= 300:\n",
    "    bill += 450+600\n",
    "    units -= 200\n",
    "    bill += 10*units\n",
    "elif units > 300:\n",
    "    bill += 450+600+1000\n",
    "    units -= 300\n",
    "    bill += 20*units\n",
    "print(f'Total Electricity Bill Rs.{bill}')"
   ]
  },
  {
   "cell_type": "code",
   "execution_count": 19,
   "id": "89ce943a-f646-46d0-a554-1e6497bb8b7a",
   "metadata": {},
   "outputs": [
    {
     "name": "stdout",
     "output_type": "stream",
     "text": [
      "[2, 4, 5, 6, 8, 10, 12, 14, 15, 16, 18, 20, 22, 24, 25, 26, 28, 30, 32, 34, 35, 36, 38, 40, 42, 44, 45, 46, 48, 50, 52, 54, 55, 56, 58, 60, 62, 64, 65, 66, 68, 70, 72, 74, 75, 76, 78, 80, 82, 84, 85, 86, 88, 90, 92, 94, 95, 96, 98, 100]\n"
     ]
    }
   ],
   "source": [
    "#4.for loop\n",
    "l=list(range(1,101))\n",
    "l1=[]\n",
    "for i in l:\n",
    "    c=i**3\n",
    "    if c%4==0 or c%5==0:\n",
    "        l1.append(i)\n",
    "print(l1)        "
   ]
  },
  {
   "cell_type": "code",
   "execution_count": 21,
   "id": "c5876cc0-09fb-45c5-a23f-888ac8b52eee",
   "metadata": {},
   "outputs": [
    {
     "name": "stdout",
     "output_type": "stream",
     "text": [
      "[2, 4, 5, 6, 8, 10, 12, 14, 15, 16, 18, 20, 22, 24, 25, 26, 28, 30, 32, 34, 35, 36, 38, 40, 42, 44, 45, 46, 48, 50, 52, 54, 55, 56, 58, 60, 62, 64, 65, 66, 68, 70, 72, 74, 75, 76, 78, 80, 82, 84, 85, 86, 88, 90, 92, 94, 95, 96, 98, 100]\n"
     ]
    }
   ],
   "source": [
    "#while loop\n",
    "l2=[]\n",
    "i=1\n",
    "while i<=100:\n",
    "    c=i**3\n",
    "    if c%4==0 or c%5==0:\n",
    "        l2.append(i)\n",
    "    i+=1\n",
    "print(l2)    \n",
    "    "
   ]
  },
  {
   "cell_type": "code",
   "execution_count": 39,
   "id": "32396bc1-de60-4c8e-8399-a9d6753fea54",
   "metadata": {},
   "outputs": [],
   "source": [
    "def vowel_count(str):\n",
    "    count=0\n",
    "    vowel=set(\"aeiouAEIOU\")\n",
    "    for i in str:\n",
    "        if i in vowel:\n",
    "            count=count+1\n",
    "    print(\"no. of vowels:\",count)\n",
    " \n",
    "\n",
    "    "
   ]
  },
  {
   "cell_type": "code",
   "execution_count": 40,
   "id": "6b8360b4-eee7-47bd-9627-3cc87cc98613",
   "metadata": {},
   "outputs": [
    {
     "name": "stdout",
     "output_type": "stream",
     "text": [
      "no. of vowels: 12\n"
     ]
    }
   ],
   "source": [
    "str= \"I want to become a data scientist\"\n",
    "vowel_count(str)"
   ]
  },
  {
   "cell_type": "code",
   "execution_count": null,
   "id": "d696867c-6a82-4187-a923-b22bd24dcd0f",
   "metadata": {},
   "outputs": [],
   "source": []
  }
 ],
 "metadata": {
  "kernelspec": {
   "display_name": "Python 3 (ipykernel)",
   "language": "python",
   "name": "python3"
  },
  "language_info": {
   "codemirror_mode": {
    "name": "ipython",
    "version": 3
   },
   "file_extension": ".py",
   "mimetype": "text/x-python",
   "name": "python",
   "nbconvert_exporter": "python",
   "pygments_lexer": "ipython3",
   "version": "3.10.8"
  }
 },
 "nbformat": 4,
 "nbformat_minor": 5
}
