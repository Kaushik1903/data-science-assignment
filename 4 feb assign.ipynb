{
 "cells": [
  {
   "cell_type": "code",
   "execution_count": 4,
   "id": "26267c62-62e0-4488-a650-b6cc28fd7606",
   "metadata": {},
   "outputs": [
    {
     "name": "stdout",
     "output_type": "stream",
     "text": [
      "[[('Sachin Tendulkar', 34357), ('Ricky Ponting', 27483), ('Jack Kallis', 25534), ('Virat Kohli', 24936)]]\n"
     ]
    }
   ],
   "source": [
    "#1.\n",
    "players=[[('Sachin Tendulkar', 34357), ('Ricky Ponting', 27483), ('Jack Kallis', 25534), ('Virat Kohli', 24936)]]\n",
    "new_sorted=sorted(players,key=lambda x:x[1],reverse=True)\n",
    "print(new_sorted)"
   ]
  },
  {
   "cell_type": "code",
   "execution_count": 5,
   "id": "0c0934e7-cfe1-4915-b418-b8136f941cc9",
   "metadata": {},
   "outputs": [
    {
     "name": "stdout",
     "output_type": "stream",
     "text": [
      "[1, 4, 9, 16, 25, 36, 49, 64, 81, 100]\n"
     ]
    }
   ],
   "source": [
    "#2.\n",
    "\"\"\"Lambda\"\"\"\n",
    "list1=[1, 2, 3, 4, 5, 6, 7, 8, 9, 10]\n",
    "squared_list= list(map(lambda x: x**2,list1))\n",
    "print(squared_list)\n"
   ]
  },
  {
   "cell_type": "code",
   "execution_count": 6,
   "id": "6b732f07-0e74-47ef-8546-1d3ad44fa5fb",
   "metadata": {},
   "outputs": [
    {
     "name": "stdout",
     "output_type": "stream",
     "text": [
      "('1', '2', '3', '4', '5', '6', '7', '8', '9', '10')\n"
     ]
    }
   ],
   "source": [
    "#3.\n",
    "number=[1, 2, 3, 4, 5, 6, 7, 8, 9, 10]\n",
    "string_number= tuple(map(lambda x:str(x),number))\n",
    "print(string_number)"
   ]
  },
  {
   "cell_type": "code",
   "execution_count": 2,
   "id": "4ad001f3-0f57-4431-9d56-fbd6d0b0fc6e",
   "metadata": {},
   "outputs": [
    {
     "name": "stdout",
     "output_type": "stream",
     "text": [
      "15511210043330985984000000\n"
     ]
    }
   ],
   "source": [
    "\n",
    "#4.\n",
    "from functools import reduce\n",
    "list1=list(range(1,26))\n",
    "number= reduce(lambda x,y:x*y,list1)\n",
    "print(number)\n",
    "\n"
   ]
  },
  {
   "cell_type": "code",
   "execution_count": 5,
   "id": "2a74b5db-b6f5-4079-9924-00c9e4e5c642",
   "metadata": {},
   "outputs": [
    {
     "name": "stdout",
     "output_type": "stream",
     "text": [
      "[6, 60, 90, 120]\n"
     ]
    }
   ],
   "source": [
    "#5.\n",
    "number=[2, 3, 6, 9, 27, 60, 90, 120, 55, 46]\n",
    "new_number=list(filter(lambda x: x%2==0 and x%3==0,number))\n",
    "print(new_number)"
   ]
  },
  {
   "cell_type": "code",
   "execution_count": 6,
   "id": "4dd3bf85-8a5f-4f33-828b-7364b1afc745",
   "metadata": {},
   "outputs": [
    {
     "name": "stdout",
     "output_type": "stream",
     "text": [
      "['php', 'aba', 'radar', 'level']\n"
     ]
    }
   ],
   "source": [
    "#6.\n",
    "strings=['python', 'php', 'aba', 'radar', 'level']\n",
    "palindrome=list(filter(lambda x: x==\"\".join(reversed(x)),strings))\n",
    "print(palindrome)"
   ]
  },
  {
   "cell_type": "code",
   "execution_count": null,
   "id": "ab995abc-c266-4651-8faf-33bd92b44a7c",
   "metadata": {},
   "outputs": [],
   "source": []
  }
 ],
 "metadata": {
  "kernelspec": {
   "display_name": "Python 3 (ipykernel)",
   "language": "python",
   "name": "python3"
  },
  "language_info": {
   "codemirror_mode": {
    "name": "ipython",
    "version": 3
   },
   "file_extension": ".py",
   "mimetype": "text/x-python",
   "name": "python",
   "nbconvert_exporter": "python",
   "pygments_lexer": "ipython3",
   "version": "3.10.8"
  }
 },
 "nbformat": 4,
 "nbformat_minor": 5
}
