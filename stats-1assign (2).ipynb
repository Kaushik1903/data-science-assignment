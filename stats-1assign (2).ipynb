{
 "cells": [
  {
   "cell_type": "code",
   "execution_count": null,
   "id": "176b9e6e-32f1-4ae5-93db-d4aebd8ec833",
   "metadata": {},
   "outputs": [],
   "source": [
    "1.\n",
    "statistics is science of collecting,organizing and analysing data.\n"
   ]
  },
  {
   "cell_type": "code",
   "execution_count": null,
   "id": "f65e624e-30e9-4b58-a376-c9f52af2764f",
   "metadata": {},
   "outputs": [],
   "source": [
    "2.\n",
    "Descriptive Statistics: Descriptive statistics involves summarizing and describing the characteristics of a dataset. It is used to present and analyze data in a meaningful way. Some examples of descriptive statistics include: Measures of central tendency: Mean, median, and mode are measures of central tendency that indicate the average value of a dataset. Measures of variability: Range, variance, and standard deviation are measures of variability that describe how spread out the values in a dataset are. Frequency distribution: A frequency distribution shows the number of times each value appears in a dataset. Example: A researcher might use descriptive statistics to analyze the results of a survey about customer satisfaction. They could calculate the mean score, the standard deviation, and create a frequency distribution of the responses.\n",
    "\n",
    "Inferential Statistics: Inferential statistics involves drawing conclusions and making predictions about a population based on a sample of data. It is used to test hypotheses and make generalizations about a larger group. Some examples of inferential statistics include: Hypothesis testing: Hypothesis testing involves using statistical methods to determine whether a hypothesis about a population is likely to be true or false. Confidence intervals: A confidence interval is a range of values within which we can be confident that the population parameter falls. Regression analysis: Regression analysis is a statistical method used to examine the relationship between two or more variables. Example: A pharmaceutical company might use inferential statistics to test the efficacy of a new drug. They could conduct a randomized controlled trial on a sample of patients and use statistical methods to determine whether the drug is effective for the larger population."
   ]
  },
  {
   "cell_type": "code",
   "execution_count": null,
   "id": "82c8154b-1ddd-4c14-a581-a908bf649c38",
   "metadata": {},
   "outputs": [],
   "source": [
    "3.\n",
    "Different types of data aree:\n",
    "1.Quantitative data : it can be divided into Discrete and Continuous\n",
    "-> Discrete: any whole no. \n",
    "ex: No. of bank accounts :4\n",
    "\n",
    "-> Continuous: Any value\n",
    "ex: height of a person\n",
    "\n",
    "2. QUALITATIVE DATA:it can be divided into nominal and ordinal\n",
    "-> nomainal:Nominal data is a type of data that represents discrete units which is why it cannot be ordered and measured. They are used to label variables without providing any quantitative value. Also, they have no meaningful zero.\n",
    "\n",
    "Some examples of nominal data include\n",
    "\n",
    "Gender ( Male, Female)\n",
    "\n",
    "-> ordinal:Ordinal values represent discrete as well as ordered units. Unlike nominal, here the ordering matters. However, there is no consistency in the relative distance between the adjacent categories. And, similar to nominal data, ordinal data also don't have a meaningful zero.\n",
    "\n",
    "Examples of ordinal data\n",
    "\n",
    "Opinion (agree, mostly agree, neutral, mostly disagree, disagree)"
   ]
  },
  {
   "cell_type": "code",
   "execution_count": null,
   "id": "fcdcde44-2aa5-456c-af47-de48bef596c3",
   "metadata": {},
   "outputs": [],
   "source": [
    "4.\n",
    "1. ordinal  qualitative data\n",
    "2.nomainal  qualitative data\n",
    "3.continuous quantitative data\n",
    "4. Discrete Quantitative data"
   ]
  },
  {
   "cell_type": "code",
   "execution_count": null,
   "id": "07016b4a-a157-4881-82fa-5efbb5a3aed7",
   "metadata": {},
   "outputs": [],
   "source": [
    "5.\n",
    "There are 4 levels of measurement:\n",
    "\n",
    "Nominal: the data can only be categorized\n",
    "ex: gender,city of birth\n",
    "\n",
    "Ordinal: the data can be categorized and ranked\n",
    "ex: language ability(best,better,good)\n",
    "\n",
    "Interval: the data can be categorized, ranked, and evenly spaced\n",
    "ex: test score(IQ)\n",
    "\n",
    "Ratio: the data can be categorized, ranked, evenly spaced, and has a natural zero.\n",
    "ex: height ,weight"
   ]
  },
  {
   "cell_type": "code",
   "execution_count": null,
   "id": "c824d409-fc38-480a-a186-c8ec443aa794",
   "metadata": {},
   "outputs": [],
   "source": [
    "6.It is important to understand the level of measurement of variables in research, \n",
    "because the level of measurement determines the type of statistical analysis that can be conducted, and,\n",
    "therefore, the type of conclusions that can be drawn from the research."
   ]
  },
  {
   "cell_type": "code",
   "execution_count": null,
   "id": "b90bdad8-928a-458d-b7e5-ef37ff23012a",
   "metadata": {},
   "outputs": [],
   "source": [
    "7.\n",
    "Ordinal level variables are nominal level variables with a meaningful order. \n",
    "For example, horse race winners can be assigned labels of first, second, third, fourth, etc. and these labels have an ordered relationship among them (i.e., first is higher than second, second is higher than third, and so on).\n",
    "As with nominal level variables, ordinal level variables are typically described with frequencies and percentages."
   ]
  },
  {
   "cell_type": "code",
   "execution_count": null,
   "id": "2021c2bd-5583-45b5-956b-a6c5188b624a",
   "metadata": {},
   "outputs": [],
   "source": [
    "8.\n",
    "Histogram is the  type of plot can be used to display data in terms of range"
   ]
  },
  {
   "cell_type": "code",
   "execution_count": null,
   "id": "f1aeb543-febb-4614-92f2-6cfddeb44870",
   "metadata": {},
   "outputs": [],
   "source": [
    "9.\n",
    "Descriptive Statistics gives information about raw data regarding its description or features. Inferential statistics, on the other hand, draw inferences about the population by using data extracted from the population.\n",
    "\n",
    "We use descriptive statistics to describe a situation, while we use inferential statistics to explain the probability of occurrence of an event. \n",
    "As for descriptive statistics, it helps to organize, analyze and present data in a meaningful manner. Inferential statistics helps to compare data, make hypotheses and predictions. \n",
    "\n",
    "Descriptive statistics explains already known data related to a particular sample or population of a small size. Inferential statistics, however, aims to draw inferences or conclusions about a whole population. \n",
    "\n",
    "We use charts, graphs, and tables to represent descriptive statistics, while we use probability methods for inferential statistics.\n",
    "\n",
    "It is simpler to perform a study using descriptive statistics rather than inferential statistics, where you need to establish a relationship between variables in an entire population. "
   ]
  }
 ],
 "metadata": {
  "kernelspec": {
   "display_name": "Python 3 (ipykernel)",
   "language": "python",
   "name": "python3"
  },
  "language_info": {
   "codemirror_mode": {
    "name": "ipython",
    "version": 3
   },
   "file_extension": ".py",
   "mimetype": "text/x-python",
   "name": "python",
   "nbconvert_exporter": "python",
   "pygments_lexer": "ipython3",
   "version": "3.10.8"
  }
 },
 "nbformat": 4,
 "nbformat_minor": 5
}
