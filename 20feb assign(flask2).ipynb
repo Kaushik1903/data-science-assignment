{
 "cells": [
  {
   "cell_type": "code",
   "execution_count": null,
   "id": "234d8af6-258d-4590-86c5-3b0b5c8d2d11",
   "metadata": {},
   "outputs": [],
   "source": [
    "\"\"\"\n",
    "1.GET: This method is used to retrieve data from the server.\n",
    "e.g In an eCommerce application, there is a search button to search for an item. \n",
    "after entering a keyword if we noticed, the keyword you searched for gets displayed in the URL. This request is used when the data is not sensitive.\n",
    "\n",
    "POST: This method makes enables users to send data over to the server.\n",
    "e.g In any authentication-enabled application, the registration and login form is the best example for the post method.\n",
    "Whenever we enter Information and submit the data get transferred over to the POST request. \n",
    "And if we noticed, unlike get request there is no information will be ever displayed in the URL.\n",
    "\"\"\""
   ]
  },
  {
   "cell_type": "code",
   "execution_count": null,
   "id": "c07142fc-7a0a-419c-978c-3bd46b242088",
   "metadata": {},
   "outputs": [],
   "source": [
    "\"\"\"2.the request object contains all the data that is sent from the client to the server.\"\"\""
   ]
  },
  {
   "cell_type": "code",
   "execution_count": 1,
   "id": "d57123af-252b-42e4-8d26-0fc522d644a4",
   "metadata": {},
   "outputs": [
    {
     "data": {
      "text/plain": [
       "'3.Flask class provides the redirect() function which redirects the user to some specified URL with the specified status code.'"
      ]
     },
     "execution_count": 1,
     "metadata": {},
     "output_type": "execute_result"
    }
   ],
   "source": [
    "\"\"\"3.Flask class provides the redirect() function which redirects the user to some specified URL with the specified status code.\"\"\""
   ]
  },
  {
   "cell_type": "code",
   "execution_count": null,
   "id": "cf371581-b568-40ec-ae3f-03ce902fed3a",
   "metadata": {},
   "outputs": [],
   "source": [
    "\"\"\"4.Flask provides us the render_template() function which can be used to render the external HTML file to be returned as the response from the view function.\"\"\""
   ]
  }
 ],
 "metadata": {
  "kernelspec": {
   "display_name": "Python 3 (ipykernel)",
   "language": "python",
   "name": "python3"
  },
  "language_info": {
   "codemirror_mode": {
    "name": "ipython",
    "version": 3
   },
   "file_extension": ".py",
   "mimetype": "text/x-python",
   "name": "python",
   "nbconvert_exporter": "python",
   "pygments_lexer": "ipython3",
   "version": "3.10.8"
  }
 },
 "nbformat": 4,
 "nbformat_minor": 5
}
